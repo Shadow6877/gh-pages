{
 "cells": [
  {
   "cell_type": "code",
   "execution_count": 17,
   "id": "f91eb4e9",
   "metadata": {},
   "outputs": [],
   "source": [
    "import numpy as np\n",
    "import pandas as pd\n",
    "import yfinance as yf\n",
    "import datetime as dt\n",
    "import seaborn as sns\n",
    "import numpy as np\n",
    "import matplotlib.pyplot as plt\n",
    "import matplotlib.pyplot as plt\n",
    "from sklearn.preprocessing import MinMaxScaler\n",
    "import pandas_datareader as df\n",
    "from keras.models import load_model\n",
    "from keras.models import Sequential\n",
    "from keras.layers import Dense, LSTM"
   ]
  },
  {
   "cell_type": "code",
   "execution_count": 18,
   "id": "ee00f18c",
   "metadata": {},
   "outputs": [],
   "source": [
    "#See the yahoo finance ticker for your stock symbol\n",
    "stock_symbol = 'JUBLPHARMA.NS'"
   ]
  },
  {
   "cell_type": "code",
   "execution_count": 19,
   "id": "d365868a",
   "metadata": {},
   "outputs": [
    {
     "name": "stdout",
     "output_type": "stream",
     "text": [
      "[*********************100%***********************]  1 of 1 completed\n"
     ]
    }
   ],
   "source": [
    "#last 5 years data with interval of 1 day\n",
    "end_date = dt.datetime.strptime(\"2022-04-01\", \"%Y-%m-%d\").date()\n",
    "start_date=end_date-dt.timedelta(days=365*5)\n",
    "data = yf.download(tickers=stock_symbol,start=start_date,end=end_date,interval='1d')"
   ]
  },
  {
   "cell_type": "code",
   "execution_count": 20,
   "id": "9f82e205",
   "metadata": {},
   "outputs": [
    {
     "data": {
      "text/plain": [
       "pandas.core.frame.DataFrame"
      ]
     },
     "execution_count": 20,
     "metadata": {},
     "output_type": "execute_result"
    }
   ],
   "source": [
    "type(data)"
   ]
  },
  {
   "cell_type": "code",
   "execution_count": 21,
   "id": "dbbe3e6b",
   "metadata": {},
   "outputs": [
    {
     "data": {
      "text/html": [
       "<div>\n",
       "<style scoped>\n",
       "    .dataframe tbody tr th:only-of-type {\n",
       "        vertical-align: middle;\n",
       "    }\n",
       "\n",
       "    .dataframe tbody tr th {\n",
       "        vertical-align: top;\n",
       "    }\n",
       "\n",
       "    .dataframe thead th {\n",
       "        text-align: right;\n",
       "    }\n",
       "</style>\n",
       "<table border=\"1\" class=\"dataframe\">\n",
       "  <thead>\n",
       "    <tr style=\"text-align: right;\">\n",
       "      <th></th>\n",
       "      <th>Open</th>\n",
       "      <th>High</th>\n",
       "      <th>Low</th>\n",
       "      <th>Close</th>\n",
       "      <th>Adj Close</th>\n",
       "      <th>Volume</th>\n",
       "    </tr>\n",
       "    <tr>\n",
       "      <th>Date</th>\n",
       "      <th></th>\n",
       "      <th></th>\n",
       "      <th></th>\n",
       "      <th></th>\n",
       "      <th></th>\n",
       "      <th></th>\n",
       "    </tr>\n",
       "  </thead>\n",
       "  <tbody>\n",
       "    <tr>\n",
       "      <th>2017-04-03</th>\n",
       "      <td>803.799988</td>\n",
       "      <td>822.000000</td>\n",
       "      <td>802.000000</td>\n",
       "      <td>818.849976</td>\n",
       "      <td>790.370422</td>\n",
       "      <td>543943</td>\n",
       "    </tr>\n",
       "    <tr>\n",
       "      <th>2017-04-05</th>\n",
       "      <td>823.549988</td>\n",
       "      <td>845.000000</td>\n",
       "      <td>805.000000</td>\n",
       "      <td>837.900024</td>\n",
       "      <td>808.757874</td>\n",
       "      <td>1260312</td>\n",
       "    </tr>\n",
       "    <tr>\n",
       "      <th>2017-04-06</th>\n",
       "      <td>833.000000</td>\n",
       "      <td>841.299988</td>\n",
       "      <td>820.200012</td>\n",
       "      <td>835.299988</td>\n",
       "      <td>806.248291</td>\n",
       "      <td>831311</td>\n",
       "    </tr>\n",
       "    <tr>\n",
       "      <th>2017-04-07</th>\n",
       "      <td>832.400024</td>\n",
       "      <td>844.000000</td>\n",
       "      <td>806.349976</td>\n",
       "      <td>813.549988</td>\n",
       "      <td>785.254761</td>\n",
       "      <td>484915</td>\n",
       "    </tr>\n",
       "    <tr>\n",
       "      <th>2017-04-10</th>\n",
       "      <td>816.000000</td>\n",
       "      <td>818.549988</td>\n",
       "      <td>803.000000</td>\n",
       "      <td>813.400024</td>\n",
       "      <td>785.109985</td>\n",
       "      <td>382215</td>\n",
       "    </tr>\n",
       "  </tbody>\n",
       "</table>\n",
       "</div>"
      ],
      "text/plain": [
       "                  Open        High         Low       Close   Adj Close  \\\n",
       "Date                                                                     \n",
       "2017-04-03  803.799988  822.000000  802.000000  818.849976  790.370422   \n",
       "2017-04-05  823.549988  845.000000  805.000000  837.900024  808.757874   \n",
       "2017-04-06  833.000000  841.299988  820.200012  835.299988  806.248291   \n",
       "2017-04-07  832.400024  844.000000  806.349976  813.549988  785.254761   \n",
       "2017-04-10  816.000000  818.549988  803.000000  813.400024  785.109985   \n",
       "\n",
       "             Volume  \n",
       "Date                 \n",
       "2017-04-03   543943  \n",
       "2017-04-05  1260312  \n",
       "2017-04-06   831311  \n",
       "2017-04-07   484915  \n",
       "2017-04-10   382215  "
      ]
     },
     "execution_count": 21,
     "metadata": {},
     "output_type": "execute_result"
    }
   ],
   "source": [
    "data.head()"
   ]
  },
  {
   "cell_type": "code",
   "execution_count": 22,
   "id": "9d445949",
   "metadata": {},
   "outputs": [
    {
     "data": {
      "text/plain": [
       "1235"
      ]
     },
     "execution_count": 22,
     "metadata": {},
     "output_type": "execute_result"
    }
   ],
   "source": [
    "len(data)"
   ]
  },
  {
   "cell_type": "code",
   "execution_count": 23,
   "id": "bf283ad5",
   "metadata": {},
   "outputs": [
    {
     "data": {
      "text/html": [
       "<div>\n",
       "<style scoped>\n",
       "    .dataframe tbody tr th:only-of-type {\n",
       "        vertical-align: middle;\n",
       "    }\n",
       "\n",
       "    .dataframe tbody tr th {\n",
       "        vertical-align: top;\n",
       "    }\n",
       "\n",
       "    .dataframe thead th {\n",
       "        text-align: right;\n",
       "    }\n",
       "</style>\n",
       "<table border=\"1\" class=\"dataframe\">\n",
       "  <thead>\n",
       "    <tr style=\"text-align: right;\">\n",
       "      <th></th>\n",
       "      <th>Open</th>\n",
       "      <th>High</th>\n",
       "      <th>Low</th>\n",
       "      <th>Close</th>\n",
       "      <th>Adj Close</th>\n",
       "      <th>Volume</th>\n",
       "    </tr>\n",
       "    <tr>\n",
       "      <th>Date</th>\n",
       "      <th></th>\n",
       "      <th></th>\n",
       "      <th></th>\n",
       "      <th></th>\n",
       "      <th></th>\n",
       "      <th></th>\n",
       "    </tr>\n",
       "  </thead>\n",
       "  <tbody>\n",
       "    <tr>\n",
       "      <th>2022-03-25</th>\n",
       "      <td>437.100006</td>\n",
       "      <td>440.000000</td>\n",
       "      <td>428.000000</td>\n",
       "      <td>430.850006</td>\n",
       "      <td>430.850006</td>\n",
       "      <td>201350</td>\n",
       "    </tr>\n",
       "    <tr>\n",
       "      <th>2022-03-28</th>\n",
       "      <td>431.500000</td>\n",
       "      <td>433.100006</td>\n",
       "      <td>408.200012</td>\n",
       "      <td>410.350006</td>\n",
       "      <td>410.350006</td>\n",
       "      <td>298520</td>\n",
       "    </tr>\n",
       "    <tr>\n",
       "      <th>2022-03-29</th>\n",
       "      <td>414.700012</td>\n",
       "      <td>423.750000</td>\n",
       "      <td>396.200012</td>\n",
       "      <td>399.899994</td>\n",
       "      <td>399.899994</td>\n",
       "      <td>316946</td>\n",
       "    </tr>\n",
       "    <tr>\n",
       "      <th>2022-03-30</th>\n",
       "      <td>404.950012</td>\n",
       "      <td>409.899994</td>\n",
       "      <td>393.000000</td>\n",
       "      <td>398.799988</td>\n",
       "      <td>398.799988</td>\n",
       "      <td>248565</td>\n",
       "    </tr>\n",
       "    <tr>\n",
       "      <th>2022-03-31</th>\n",
       "      <td>400.000000</td>\n",
       "      <td>403.450012</td>\n",
       "      <td>385.149994</td>\n",
       "      <td>388.149994</td>\n",
       "      <td>388.149994</td>\n",
       "      <td>273138</td>\n",
       "    </tr>\n",
       "  </tbody>\n",
       "</table>\n",
       "</div>"
      ],
      "text/plain": [
       "                  Open        High         Low       Close   Adj Close  Volume\n",
       "Date                                                                          \n",
       "2022-03-25  437.100006  440.000000  428.000000  430.850006  430.850006  201350\n",
       "2022-03-28  431.500000  433.100006  408.200012  410.350006  410.350006  298520\n",
       "2022-03-29  414.700012  423.750000  396.200012  399.899994  399.899994  316946\n",
       "2022-03-30  404.950012  409.899994  393.000000  398.799988  398.799988  248565\n",
       "2022-03-31  400.000000  403.450012  385.149994  388.149994  388.149994  273138"
      ]
     },
     "execution_count": 23,
     "metadata": {},
     "output_type": "execute_result"
    }
   ],
   "source": [
    "data.tail()"
   ]
  },
  {
   "cell_type": "code",
   "execution_count": 24,
   "id": "6292e20a",
   "metadata": {},
   "outputs": [],
   "source": [
    "opn = data[['Open']]"
   ]
  },
  {
   "cell_type": "code",
   "execution_count": 25,
   "id": "21e132d8",
   "metadata": {},
   "outputs": [
    {
     "data": {
      "text/plain": [
       "<AxesSubplot:xlabel='Date'>"
      ]
     },
     "execution_count": 25,
     "metadata": {},
     "output_type": "execute_result"
    },
    {
     "data": {
      "image/png": "[encoded data removed]",
      "text/plain": [
       "<Figure size 432x288 with 1 Axes>"
      ]
     },
     "metadata": {
      "needs_background": "light"
     },
     "output_type": "display_data"
    }
   ],
   "source": [
    "opn.plot()"
   ]
  },
  {
   "cell_type": "code",
   "execution_count": 26,
   "id": "c5194440",
   "metadata": {},
   "outputs": [],
   "source": [
    "import matplotlib.pyplot as plt"
   ]
  },
  {
   "cell_type": "code",
   "execution_count": 27,
   "id": "8038cb6a",
   "metadata": {},
   "outputs": [],
   "source": [
    "#close=data[['Close']]\n",
    "ds = opn.values"
   ]
  },
  {
   "cell_type": "code",
   "execution_count": 28,
   "id": "69b08672",
   "metadata": {},
   "outputs": [
    {
     "data": {
      "text/plain": [
       "array([[803.79998779],\n",
       "       [823.54998779],\n",
       "       [833.        ],\n",
       "       ...,\n",
       "       [414.70001221],\n",
       "       [404.95001221],\n",
       "       [400.        ]])"
      ]
     },
     "execution_count": 28,
     "metadata": {},
     "output_type": "execute_result"
    }
   ],
   "source": [
    "ds"
   ]
  },
  {
   "cell_type": "code",
   "execution_count": 29,
   "id": "af022e3c",
   "metadata": {},
   "outputs": [
    {
     "data": {
      "text/plain": [
       "[<matplotlib.lines.Line2D at 0x19288a70b50>]"
      ]
     },
     "execution_count": 29,
     "metadata": {},
     "output_type": "execute_result"
    },
    {
     "data": {
      "image/png": "[encoded data removed]",
      "text/plain": [
       "<Figure size 432x288 with 1 Axes>"
      ]
     },
     "metadata": {
      "needs_background": "light"
     },
     "output_type": "display_data"
    }
   ],
   "source": [
    "plt.plot(ds)"
   ]
  },
  {
   "cell_type": "code",
   "execution_count": 30,
   "id": "0e73b789",
   "metadata": {},
   "outputs": [],
   "source": [
    "import numpy as np"
   ]
  },
  {
   "cell_type": "code",
   "execution_count": 31,
   "id": "0e6c1c22",
   "metadata": {},
   "outputs": [],
   "source": [
    "from sklearn.preprocessing import MinMaxScaler"
   ]
  },
  {
   "cell_type": "code",
   "execution_count": 32,
   "id": "cf6a3e1b",
   "metadata": {},
   "outputs": [],
   "source": [
    "#Using MinMaxScaler for normalizing data between 0 & 1\n",
    "normalizer = MinMaxScaler(feature_range=(0,1))\n",
    "ds_scaled = normalizer.fit_transform(np.array(ds).reshape(-1,1))"
   ]
  },
  {
   "cell_type": "code",
   "execution_count": 33,
   "id": "b54afc31",
   "metadata": {},
   "outputs": [
    {
     "name": "stdout",
     "output_type": "stream",
     "text": [
      "[[0.72403348]\n",
      " [0.74948451]\n",
      " [0.76166236]\n",
      " ...\n",
      " [0.22261599]\n",
      " [0.21005156]\n",
      " [0.20367268]]\n"
     ]
    }
   ],
   "source": [
    "print(ds_scaled)"
   ]
  },
  {
   "cell_type": "code",
   "execution_count": 34,
   "id": "7dbea1d5",
   "metadata": {},
   "outputs": [
    {
     "data": {
      "text/plain": [
       "(1235, 1235)"
      ]
     },
     "execution_count": 34,
     "metadata": {},
     "output_type": "execute_result"
    }
   ],
   "source": [
    "len(ds_scaled), len(ds)"
   ]
  },
  {
   "cell_type": "code",
   "execution_count": 35,
   "id": "a20c5654",
   "metadata": {},
   "outputs": [],
   "source": [
    "#Defining test and train data sizes\n",
    "train_size = int(len(ds_scaled)*0.70)\n",
    "test_size = len(ds_scaled) - train_size"
   ]
  },
  {
   "cell_type": "code",
   "execution_count": 36,
   "id": "b964aa4e",
   "metadata": {},
   "outputs": [
    {
     "data": {
      "text/plain": [
       "(864, 371)"
      ]
     },
     "execution_count": 36,
     "metadata": {},
     "output_type": "execute_result"
    }
   ],
   "source": [
    "train_size,test_size"
   ]
  },
  {
   "cell_type": "code",
   "execution_count": 37,
   "id": "25ca615e",
   "metadata": {},
   "outputs": [],
   "source": [
    "#Splitting data between train and test\n",
    "ds_train, ds_test = ds_scaled[0:train_size,:], ds_scaled[train_size:len(ds_scaled),:1]"
   ]
  },
  {
   "cell_type": "code",
   "execution_count": 38,
   "id": "95913f28",
   "metadata": {},
   "outputs": [
    {
     "data": {
      "text/plain": [
       "(864, 371)"
      ]
     },
     "execution_count": 38,
     "metadata": {},
     "output_type": "execute_result"
    }
   ],
   "source": [
    "len(ds_train),len(ds_test)"
   ]
  },
  {
   "cell_type": "code",
   "execution_count": 39,
   "id": "5dd0b45e",
   "metadata": {},
   "outputs": [],
   "source": [
    "#creating dataset in time series for LSTM model \n",
    "#X[100,120,140,160,180] : Y[200]\n",
    "def create_ds(dataset,step):\n",
    "    Xtrain, Ytrain = [], []\n",
    "    for i in range(len(dataset)-step-1):\n",
    "        a = dataset[i:(i+step), 0]\n",
    "        Xtrain.append(a)\n",
    "        Ytrain.append(dataset[i + step, 0])\n",
    "    return np.array(Xtrain), np.array(Ytrain)"
   ]
  },
  {
   "cell_type": "code",
   "execution_count": 40,
   "id": "d28b7d1d",
   "metadata": {},
   "outputs": [],
   "source": [
    "#Taking 100 days price as one record for training\n",
    "time_stamp = 30\n",
    "X_train, y_train = create_ds(ds_train,time_stamp)\n",
    "X_test, y_test = create_ds(ds_test,time_stamp)"
   ]
  },
  {
   "cell_type": "code",
   "execution_count": 41,
   "id": "03ce9096",
   "metadata": {},
   "outputs": [
    {
     "data": {
      "text/plain": [
       "((833, 30), (833,))"
      ]
     },
     "execution_count": 41,
     "metadata": {},
     "output_type": "execute_result"
    }
   ],
   "source": [
    "X_train.shape,y_train.shape"
   ]
  },
  {
   "cell_type": "code",
   "execution_count": 42,
   "id": "84acdd72",
   "metadata": {},
   "outputs": [
    {
     "data": {
      "text/plain": [
       "((340, 30), (340,))"
      ]
     },
     "execution_count": 42,
     "metadata": {},
     "output_type": "execute_result"
    }
   ],
   "source": [
    "X_test.shape, y_test.shape"
   ]
  },
  {
   "cell_type": "code",
   "execution_count": 43,
   "id": "c657d193",
   "metadata": {},
   "outputs": [],
   "source": [
    "#Reshaping data to fit into LSTM model\n",
    "X_train = X_train.reshape(X_train.shape[0],X_train.shape[1] , 1)\n",
    "X_test = X_test.reshape(X_test.shape[0],X_test.shape[1] , 1)"
   ]
  },
  {
   "cell_type": "code",
   "execution_count": 44,
   "id": "82844671",
   "metadata": {},
   "outputs": [],
   "source": [
    "from keras.models import Sequential\n",
    "from keras.layers import Dense, LSTM"
   ]
  },
  {
   "cell_type": "code",
   "execution_count": 45,
   "id": "b5250913",
   "metadata": {},
   "outputs": [
    {
     "name": "stdout",
     "output_type": "stream",
     "text": [
      "Model: \"sequential\"\n",
      "_________________________________________________________________\n",
      " Layer (type)                Output Shape              Param #   \n",
      "=================================================================\n",
      " lstm (LSTM)                 (None, 30, 50)            10400     \n",
      "                                                                 \n",
      " lstm_1 (LSTM)               (None, 30, 50)            20200     \n",
      "                                                                 \n",
      " lstm_2 (LSTM)               (None, 50)                20200     \n",
      "                                                                 \n",
      " dense (Dense)               (None, 1)                 51        \n",
      "                                                                 \n",
      "=================================================================\n",
      "Total params: 50,851\n",
      "Trainable params: 50,851\n",
      "Non-trainable params: 0\n",
      "_________________________________________________________________\n"
     ]
    }
   ],
   "source": [
    "#Creating LSTM model using keras\n",
    "model = Sequential()\n",
    "model.add(LSTM(units=50,return_sequences=True,input_shape=(X_train.shape[1],1)))\n",
    "model.add(LSTM(units=50,return_sequences=True))\n",
    "model.add(LSTM(units=50))\n",
    "model.add(Dense(units=1))\n",
    "model.compile(loss='mean_squared_error',optimizer='adam')\n",
    "model.summary()"
   ]
  },
  {
   "cell_type": "code",
   "execution_count": 46,
   "id": "7e8ff062",
   "metadata": {},
   "outputs": [
    {
     "name": "stdout",
     "output_type": "stream",
     "text": [
      "Epoch 1/80\n",
      "14/14 [==============================] - 5s 111ms/step - loss: 0.0826 - val_loss: 0.0201\n",
      "Epoch 2/80\n",
      "14/14 [==============================] - 1s 43ms/step - loss: 0.0126 - val_loss: 0.0076\n",
      "Epoch 3/80\n",
      "14/14 [==============================] - 1s 40ms/step - loss: 0.0070 - val_loss: 0.0072\n",
      "Epoch 4/80\n",
      "14/14 [==============================] - 1s 40ms/step - loss: 0.0060 - val_loss: 0.0051\n",
      "Epoch 5/80\n",
      "14/14 [==============================] - 1s 40ms/step - loss: 0.0047 - val_loss: 0.0066\n",
      "Epoch 6/80\n",
      "14/14 [==============================] - 1s 41ms/step - loss: 0.0064 - val_loss: 0.0054\n",
      "Epoch 7/80\n",
      "14/14 [==============================] - 1s 40ms/step - loss: 0.0047 - val_loss: 0.0053\n",
      "Epoch 8/80\n",
      "14/14 [==============================] - 1s 40ms/step - loss: 0.0043 - val_loss: 0.0043\n",
      "Epoch 9/80\n",
      "14/14 [==============================] - 1s 40ms/step - loss: 0.0041 - val_loss: 0.0045\n",
      "Epoch 10/80\n",
      "14/14 [==============================] - 1s 41ms/step - loss: 0.0038 - val_loss: 0.0042\n",
      "Epoch 11/80\n",
      "14/14 [==============================] - 1s 41ms/step - loss: 0.0039 - val_loss: 0.0049\n",
      "Epoch 12/80\n",
      "14/14 [==============================] - 1s 40ms/step - loss: 0.0037 - val_loss: 0.0037\n",
      "Epoch 13/80\n",
      "14/14 [==============================] - 1s 42ms/step - loss: 0.0033 - val_loss: 0.0036\n",
      "Epoch 14/80\n",
      "14/14 [==============================] - 1s 41ms/step - loss: 0.0031 - val_loss: 0.0038\n",
      "Epoch 15/80\n",
      "14/14 [==============================] - 1s 40ms/step - loss: 0.0033 - val_loss: 0.0038\n",
      "Epoch 16/80\n",
      "14/14 [==============================] - 1s 41ms/step - loss: 0.0032 - val_loss: 0.0067\n",
      "Epoch 17/80\n",
      "14/14 [==============================] - 1s 40ms/step - loss: 0.0059 - val_loss: 0.0049\n",
      "Epoch 18/80\n",
      "14/14 [==============================] - 1s 43ms/step - loss: 0.0038 - val_loss: 0.0034\n",
      "Epoch 19/80\n",
      "14/14 [==============================] - 1s 41ms/step - loss: 0.0030 - val_loss: 0.0037\n",
      "Epoch 20/80\n",
      "14/14 [==============================] - 1s 40ms/step - loss: 0.0034 - val_loss: 0.0033\n",
      "Epoch 21/80\n",
      "14/14 [==============================] - 1s 40ms/step - loss: 0.0034 - val_loss: 0.0034\n",
      "Epoch 22/80\n",
      "14/14 [==============================] - 1s 41ms/step - loss: 0.0029 - val_loss: 0.0034\n",
      "Epoch 23/80\n",
      "14/14 [==============================] - 1s 39ms/step - loss: 0.0029 - val_loss: 0.0036\n",
      "Epoch 24/80\n",
      "14/14 [==============================] - 1s 40ms/step - loss: 0.0027 - val_loss: 0.0030\n",
      "Epoch 25/80\n",
      "14/14 [==============================] - 1s 41ms/step - loss: 0.0026 - val_loss: 0.0029\n",
      "Epoch 26/80\n",
      "14/14 [==============================] - 1s 43ms/step - loss: 0.0025 - val_loss: 0.0029\n",
      "Epoch 27/80\n",
      "14/14 [==============================] - 1s 39ms/step - loss: 0.0024 - val_loss: 0.0032\n",
      "Epoch 28/80\n",
      "14/14 [==============================] - 1s 40ms/step - loss: 0.0027 - val_loss: 0.0029\n",
      "Epoch 29/80\n",
      "14/14 [==============================] - 1s 40ms/step - loss: 0.0024 - val_loss: 0.0028\n",
      "Epoch 30/80\n",
      "14/14 [==============================] - 1s 42ms/step - loss: 0.0023 - val_loss: 0.0027\n",
      "Epoch 31/80\n",
      "14/14 [==============================] - 1s 41ms/step - loss: 0.0023 - val_loss: 0.0029\n",
      "Epoch 32/80\n",
      "14/14 [==============================] - 1s 41ms/step - loss: 0.0024 - val_loss: 0.0030\n",
      "Epoch 33/80\n",
      "14/14 [==============================] - 1s 40ms/step - loss: 0.0025 - val_loss: 0.0027\n",
      "Epoch 34/80\n",
      "14/14 [==============================] - 1s 41ms/step - loss: 0.0021 - val_loss: 0.0026\n",
      "Epoch 35/80\n",
      "14/14 [==============================] - 1s 41ms/step - loss: 0.0022 - val_loss: 0.0025\n",
      "Epoch 36/80\n",
      "14/14 [==============================] - 1s 40ms/step - loss: 0.0021 - val_loss: 0.0041\n",
      "Epoch 37/80\n",
      "14/14 [==============================] - 1s 40ms/step - loss: 0.0036 - val_loss: 0.0038\n",
      "Epoch 38/80\n",
      "14/14 [==============================] - 1s 40ms/step - loss: 0.0025 - val_loss: 0.0024\n",
      "Epoch 39/80\n",
      "14/14 [==============================] - 1s 42ms/step - loss: 0.0022 - val_loss: 0.0030\n",
      "Epoch 40/80\n",
      "14/14 [==============================] - 1s 42ms/step - loss: 0.0022 - val_loss: 0.0024\n",
      "Epoch 41/80\n",
      "14/14 [==============================] - 1s 43ms/step - loss: 0.0021 - val_loss: 0.0023\n",
      "Epoch 42/80\n",
      "14/14 [==============================] - 1s 42ms/step - loss: 0.0020 - val_loss: 0.0023\n",
      "Epoch 43/80\n",
      "14/14 [==============================] - 1s 42ms/step - loss: 0.0019 - val_loss: 0.0022\n",
      "Epoch 44/80\n",
      "14/14 [==============================] - 1s 40ms/step - loss: 0.0019 - val_loss: 0.0022\n",
      "Epoch 45/80\n",
      "14/14 [==============================] - 1s 41ms/step - loss: 0.0018 - val_loss: 0.0022\n",
      "Epoch 46/80\n",
      "14/14 [==============================] - 1s 39ms/step - loss: 0.0021 - val_loss: 0.0029\n",
      "Epoch 47/80\n",
      "14/14 [==============================] - 1s 42ms/step - loss: 0.0024 - val_loss: 0.0021\n",
      "Epoch 48/80\n",
      "14/14 [==============================] - 1s 40ms/step - loss: 0.0019 - val_loss: 0.0021\n",
      "Epoch 49/80\n",
      "14/14 [==============================] - 1s 40ms/step - loss: 0.0018 - val_loss: 0.0020\n",
      "Epoch 50/80\n",
      "14/14 [==============================] - 1s 40ms/step - loss: 0.0017 - val_loss: 0.0020\n",
      "Epoch 51/80\n",
      "14/14 [==============================] - 1s 40ms/step - loss: 0.0018 - val_loss: 0.0020\n",
      "Epoch 52/80\n",
      "14/14 [==============================] - 1s 41ms/step - loss: 0.0017 - val_loss: 0.0019\n",
      "Epoch 53/80\n",
      "14/14 [==============================] - 1s 40ms/step - loss: 0.0017 - val_loss: 0.0019\n",
      "Epoch 54/80\n",
      "14/14 [==============================] - 1s 40ms/step - loss: 0.0017 - val_loss: 0.0022\n",
      "Epoch 55/80\n",
      "14/14 [==============================] - 1s 40ms/step - loss: 0.0019 - val_loss: 0.0025\n",
      "Epoch 56/80\n",
      "14/14 [==============================] - 1s 42ms/step - loss: 0.0019 - val_loss: 0.0025\n",
      "Epoch 57/80\n",
      "14/14 [==============================] - 1s 42ms/step - loss: 0.0017 - val_loss: 0.0034\n",
      "Epoch 58/80\n",
      "14/14 [==============================] - 1s 40ms/step - loss: 0.0024 - val_loss: 0.0025\n",
      "Epoch 59/80\n",
      "14/14 [==============================] - 1s 40ms/step - loss: 0.0019 - val_loss: 0.0017\n",
      "Epoch 60/80\n",
      "14/14 [==============================] - 1s 40ms/step - loss: 0.0015 - val_loss: 0.0017\n",
      "Epoch 61/80\n",
      "14/14 [==============================] - 1s 42ms/step - loss: 0.0016 - val_loss: 0.0017\n",
      "Epoch 62/80\n",
      "14/14 [==============================] - 1s 41ms/step - loss: 0.0015 - val_loss: 0.0016\n",
      "Epoch 63/80\n",
      "14/14 [==============================] - 1s 40ms/step - loss: 0.0015 - val_loss: 0.0016\n",
      "Epoch 64/80\n",
      "14/14 [==============================] - 1s 40ms/step - loss: 0.0015 - val_loss: 0.0018\n",
      "Epoch 65/80\n",
      "14/14 [==============================] - 1s 40ms/step - loss: 0.0015 - val_loss: 0.0017\n",
      "Epoch 66/80\n",
      "14/14 [==============================] - 1s 43ms/step - loss: 0.0015 - val_loss: 0.0015\n",
      "Epoch 67/80\n",
      "14/14 [==============================] - 1s 41ms/step - loss: 0.0014 - val_loss: 0.0014\n",
      "Epoch 68/80\n",
      "14/14 [==============================] - 1s 41ms/step - loss: 0.0013 - val_loss: 0.0016\n",
      "Epoch 69/80\n",
      "14/14 [==============================] - 1s 40ms/step - loss: 0.0015 - val_loss: 0.0014\n",
      "Epoch 70/80\n",
      "14/14 [==============================] - 1s 45ms/step - loss: 0.0013 - val_loss: 0.0015\n",
      "Epoch 71/80\n",
      "14/14 [==============================] - 1s 47ms/step - loss: 0.0014 - val_loss: 0.0014\n",
      "Epoch 72/80\n",
      "14/14 [==============================] - 1s 45ms/step - loss: 0.0013 - val_loss: 0.0021\n",
      "Epoch 73/80\n",
      "14/14 [==============================] - 1s 48ms/step - loss: 0.0016 - val_loss: 0.0019\n",
      "Epoch 74/80\n",
      "14/14 [==============================] - 1s 47ms/step - loss: 0.0023 - val_loss: 0.0014\n",
      "Epoch 75/80\n",
      "14/14 [==============================] - 1s 57ms/step - loss: 0.0014 - val_loss: 0.0013\n",
      "Epoch 76/80\n",
      "14/14 [==============================] - 1s 55ms/step - loss: 0.0012 - val_loss: 0.0013\n",
      "Epoch 77/80\n",
      "14/14 [==============================] - 1s 43ms/step - loss: 0.0012 - val_loss: 0.0012\n",
      "Epoch 78/80\n",
      "14/14 [==============================] - 1s 44ms/step - loss: 0.0012 - val_loss: 0.0016\n",
      "Epoch 79/80\n",
      "14/14 [==============================] - 1s 43ms/step - loss: 0.0014 - val_loss: 0.0014\n",
      "Epoch 80/80\n",
      "14/14 [==============================] - 1s 41ms/step - loss: 0.0013 - val_loss: 0.0013\n"
     ]
    },
    {
     "data": {
      "text/plain": [
       "<keras.callbacks.History at 0x19286ddf3d0>"
      ]
     },
     "execution_count": 46,
     "metadata": {},
     "output_type": "execute_result"
    }
   ],
   "source": [
    "#Training model with adam optimizer and mean squared error loss function\n",
    "model.fit(X_train,y_train,validation_data=(X_test,y_test),epochs=80,batch_size=64,verbose=1)"
   ]
  },
  {
   "cell_type": "code",
   "execution_count": 47,
   "id": "4c0c78c5",
   "metadata": {},
   "outputs": [],
   "source": [
    "model.save('keras.model.h5')"
   ]
  },
  {
   "cell_type": "code",
   "execution_count": 48,
   "id": "18b1ba6a",
   "metadata": {},
   "outputs": [
    {
     "data": {
      "text/plain": [
       "[<matplotlib.lines.Line2D at 0x1929b103220>]"
      ]
     },
     "execution_count": 48,
     "metadata": {},
     "output_type": "execute_result"
    },
    {
     "data": {
      "image/png": "[encoded data removed]",
      "text/plain": [
       "<Figure size 432x288 with 1 Axes>"
      ]
     },
     "metadata": {
      "needs_background": "light"
     },
     "output_type": "display_data"
    }
   ],
   "source": [
    "#PLotting loss, it shows that loss has decreased significantly and model trained well\n",
    "loss = model.history.history['loss']\n",
    "plt.plot(loss)"
   ]
  },
  {
   "cell_type": "code",
   "execution_count": 49,
   "id": "3e7f2fc8",
   "metadata": {},
   "outputs": [],
   "source": [
    "#Predicitng on train and test data\n",
    "train_predict = model.predict(X_train)\n",
    "test_predict = model.predict(X_test)"
   ]
  },
  {
   "cell_type": "code",
   "execution_count": 50,
   "id": "c2d6c2d5",
   "metadata": {},
   "outputs": [],
   "source": [
    "#Inverse transform to get actual value\n",
    "train_predict = normalizer.inverse_transform(train_predict)\n",
    "test_predict = normalizer.inverse_transform(test_predict)"
   ]
  },
  {
   "cell_type": "code",
   "execution_count": 51,
   "id": "f258b978",
   "metadata": {},
   "outputs": [
    {
     "data": {
      "text/plain": [
       "644.9237067558885"
      ]
     },
     "execution_count": 51,
     "metadata": {},
     "output_type": "execute_result"
    }
   ],
   "source": [
    "### Calculate RMSE performance metrics\n",
    "import math\n",
    "from sklearn.metrics import mean_squared_error\n",
    "math.sqrt(mean_squared_error(y_train,train_predict))"
   ]
  },
  {
   "cell_type": "code",
   "execution_count": 52,
   "id": "2e677066",
   "metadata": {},
   "outputs": [
    {
     "data": {
      "text/plain": [
       "653.961360972263"
      ]
     },
     "execution_count": 52,
     "metadata": {},
     "output_type": "execute_result"
    }
   ],
   "source": [
    "math.sqrt(mean_squared_error(y_test,test_predict))"
   ]
  },
  {
   "cell_type": "code",
   "execution_count": 53,
   "id": "c1375e52",
   "metadata": {},
   "outputs": [],
   "source": [
    "look_back=30\n",
    "trainPredictPlot = np.empty_like(ds_scaled)\n",
    "trainPredictPlot[:, :] = np.nan\n",
    "trainPredictPlot[look_back:len(train_predict)+look_back, :] = train_predict\n",
    "# shift test predictions for plotting\n",
    "testPredictPlot = np.empty_like(ds_scaled)\n",
    "testPredictPlot[:, :] = np.nan\n",
    "testPredictPlot[len(train_predict)+(look_back*2)+1:len(ds_scaled)-1,:] = test_predict"
   ]
  },
  {
   "cell_type": "code",
   "execution_count": 54,
   "id": "9d0543ad",
   "metadata": {},
   "outputs": [
    {
     "data": {
      "image/png": "[encoded data removed]",
      "text/plain": [
       "<Figure size 432x288 with 1 Axes>"
      ]
     },
     "metadata": {
      "needs_background": "light"
     },
     "output_type": "display_data"
    }
   ],
   "source": [
    "#Comparing using visuals\n",
    "plt.plot(normalizer.inverse_transform(ds_scaled))\n",
    "plt.plot(trainPredictPlot)\n",
    "plt.plot(testPredictPlot)\n",
    "plt.show()"
   ]
  },
  {
   "cell_type": "code",
   "execution_count": 55,
   "id": "55300bae",
   "metadata": {},
   "outputs": [
    {
     "data": {
      "text/plain": [
       "numpy.ndarray"
      ]
     },
     "execution_count": 55,
     "metadata": {},
     "output_type": "execute_result"
    }
   ],
   "source": [
    "type(train_predict)"
   ]
  },
  {
   "cell_type": "code",
   "execution_count": 56,
   "id": "bf6d5613",
   "metadata": {},
   "outputs": [],
   "source": [
    "test = np.vstack((train_predict,test_predict))"
   ]
  },
  {
   "cell_type": "code",
   "execution_count": 57,
   "id": "41b272ff",
   "metadata": {},
   "outputs": [
    {
     "data": {
      "text/plain": [
       "[<matplotlib.lines.Line2D at 0x1929b436c40>]"
      ]
     },
     "execution_count": 57,
     "metadata": {},
     "output_type": "execute_result"
    },
    {
     "data": {
      "image/png": "[encoded data removed]",
      "text/plain": [
       "<Figure size 432x288 with 1 Axes>"
      ]
     },
     "metadata": {
      "needs_background": "light"
     },
     "output_type": "display_data"
    }
   ],
   "source": [
    "#Combining the predited data to create uniform data visualization\n",
    "plt.plot(normalizer.inverse_transform(ds_scaled))\n",
    "plt.plot(test)"
   ]
  },
  {
   "cell_type": "code",
   "execution_count": 58,
   "id": "16af9283",
   "metadata": {},
   "outputs": [
    {
     "data": {
      "text/plain": [
       "371"
      ]
     },
     "execution_count": 58,
     "metadata": {},
     "output_type": "execute_result"
    }
   ],
   "source": [
    "len(ds_test)"
   ]
  },
  {
   "cell_type": "code",
   "execution_count": 59,
   "id": "c13df7b8",
   "metadata": {},
   "outputs": [
    {
     "name": "stdout",
     "output_type": "stream",
     "text": [
      "341\n"
     ]
    },
    {
     "data": {
      "text/plain": [
       "30"
      ]
     },
     "execution_count": 59,
     "metadata": {},
     "output_type": "execute_result"
    }
   ],
   "source": [
    "#Getting the last 100 days records\n",
    "n=len(ds_test)-30\n",
    "print(n)\n",
    "fut_inp = ds_test[n:]\n",
    "len(fut_inp)"
   ]
  },
  {
   "cell_type": "code",
   "execution_count": 60,
   "id": "52b30579",
   "metadata": {},
   "outputs": [],
   "source": [
    "fut_inp = fut_inp.reshape(1,-1)"
   ]
  },
  {
   "cell_type": "code",
   "execution_count": 61,
   "id": "ac2686a6",
   "metadata": {},
   "outputs": [],
   "source": [
    "tmp_inp = list(fut_inp)"
   ]
  },
  {
   "cell_type": "code",
   "execution_count": 62,
   "id": "dad5024f",
   "metadata": {},
   "outputs": [
    {
     "data": {
      "text/plain": [
       "(1, 30)"
      ]
     },
     "execution_count": 62,
     "metadata": {},
     "output_type": "execute_result"
    }
   ],
   "source": [
    "fut_inp.shape"
   ]
  },
  {
   "cell_type": "code",
   "execution_count": 63,
   "id": "98042a30",
   "metadata": {},
   "outputs": [],
   "source": [
    "#Creating list of the last 100 data\n",
    "tmp_inp = tmp_inp[0].tolist()"
   ]
  },
  {
   "cell_type": "code",
   "execution_count": 64,
   "id": "44799d02",
   "metadata": {},
   "outputs": [
    {
     "name": "stdout",
     "output_type": "stream",
     "text": [
      "[[0.22398999333381653], [0.21701891720294952], [0.21316170692443848], [0.211130753159523], [0.21007369458675385], [0.2095171958208084], [0.20924080908298492], [0.20913474261760712], [0.20914226770401], [0.2092214822769165], [0.20934662222862244], [0.20950892567634583], [0.20965547859668732], [0.20976696908473969], [0.20985233783721924], [0.20991016924381256], [0.20995382964611053], [0.2099737823009491], [0.20996709167957306], [0.20992590487003326], [0.20987848937511444], [0.20982441306114197], [0.20977316796779633], [0.20975981652736664], [0.20974315702915192], [0.20972172915935516], [0.20972006022930145], [0.2097235918045044], [0.20972010493278503], [0.2097163200378418]]\n"
     ]
    }
   ],
   "source": [
    "#Predicting next 30 days price using the current data\n",
    "#It will predict in sliding window manner (algorithm) with stride 1\n",
    "lst_output=[]\n",
    "n_steps=30\n",
    "i=0\n",
    "while(i<30):\n",
    "    \n",
    "    if(len(tmp_inp)>30):\n",
    "        fut_inp = np.array(tmp_inp[1:])\n",
    "        fut_inp=fut_inp.reshape(1,-1)\n",
    "        fut_inp = fut_inp.reshape((1, n_steps, 1))\n",
    "        yhat = model.predict(fut_inp, verbose=0)\n",
    "        tmp_inp.extend(yhat[0].tolist())\n",
    "        tmp_inp = tmp_inp[1:]\n",
    "        lst_output.extend(yhat.tolist())\n",
    "        i=i+1\n",
    "    else:\n",
    "        fut_inp = fut_inp.reshape((1, n_steps,1))\n",
    "        yhat = model.predict(fut_inp, verbose=0)\n",
    "        tmp_inp.extend(yhat[0].tolist())\n",
    "        lst_output.extend(yhat.tolist())\n",
    "        i=i+1\n",
    "    \n",
    "\n",
    "print(lst_output)"
   ]
  },
  {
   "cell_type": "code",
   "execution_count": 65,
   "id": "d49a83e5",
   "metadata": {},
   "outputs": [
    {
     "data": {
      "text/plain": [
       "1235"
      ]
     },
     "execution_count": 65,
     "metadata": {},
     "output_type": "execute_result"
    }
   ],
   "source": [
    "len(ds_scaled)"
   ]
  },
  {
   "cell_type": "code",
   "execution_count": 66,
   "id": "49450ea7",
   "metadata": {},
   "outputs": [],
   "source": [
    "#Creating a dummy plane to plot graph one after another\n",
    "plot_new=np.arange(1,101)\n",
    "plot_pred=np.arange(101,131)"
   ]
  },
  {
   "cell_type": "code",
   "execution_count": 67,
   "id": "d98e4ff0",
   "metadata": {},
   "outputs": [
    {
     "name": "stdout",
     "output_type": "stream",
     "text": [
      "30\n",
      "[[415.76623519]\n",
      " [410.35668001]\n",
      " [407.36348477]\n",
      " [405.78746462]\n",
      " [404.96718715]\n",
      " [404.5353441 ]\n",
      " [404.32086799]\n",
      " [404.23856041]\n",
      " [404.24439988]\n",
      " [404.30587039]\n",
      " [404.40297899]\n",
      " [404.52892647]\n",
      " [404.64265154]\n",
      " [404.72916816]\n",
      " [404.79541431]\n",
      " [404.84029148]\n",
      " [404.87417196]\n",
      " [404.88965522]\n",
      " [404.8844633 ]\n",
      " [404.85250233]\n",
      " [404.81570791]\n",
      " [404.77374469]\n",
      " [404.73397849]\n",
      " [404.72361777]\n",
      " [404.71069   ]\n",
      " [404.69406198]\n",
      " [404.69276689]\n",
      " [404.69550739]\n",
      " [404.69280158]\n",
      " [404.6898645 ]]\n"
     ]
    }
   ],
   "source": [
    "print(len(lst_output))\n",
    "print(normalizer.inverse_transform(lst_output))"
   ]
  },
  {
   "cell_type": "code",
   "execution_count": 68,
   "id": "29f84e31",
   "metadata": {},
   "outputs": [
    {
     "data": {
      "text/plain": [
       "[<matplotlib.lines.Line2D at 0x1929b4cde20>]"
      ]
     },
     "execution_count": 68,
     "metadata": {},
     "output_type": "execute_result"
    },
    {
     "data": {
      "image/png": "[encoded data removed]",
      "text/plain": [
       "<Figure size 432x288 with 1 Axes>"
      ]
     },
     "metadata": {
      "needs_background": "light"
     },
     "output_type": "display_data"
    }
   ],
   "source": [
    "plt.plot(plot_new, normalizer.inverse_transform(ds_scaled[ds_scaled.size-100:]))\n",
    "plt.plot(plot_pred, normalizer.inverse_transform(lst_output))"
   ]
  },
  {
   "cell_type": "code",
   "execution_count": 69,
   "id": "e41c9362",
   "metadata": {},
   "outputs": [],
   "source": [
    "ds_new = ds_scaled.tolist()"
   ]
  },
  {
   "cell_type": "code",
   "execution_count": 70,
   "id": "d6c8d3c1",
   "metadata": {},
   "outputs": [
    {
     "data": {
      "text/plain": [
       "1235"
      ]
     },
     "execution_count": 70,
     "metadata": {},
     "output_type": "execute_result"
    }
   ],
   "source": [
    "len(ds_new)"
   ]
  },
  {
   "cell_type": "code",
   "execution_count": 71,
   "id": "24e99607",
   "metadata": {},
   "outputs": [
    {
     "data": {
      "text/plain": [
       "[<matplotlib.lines.Line2D at 0x1929b501940>]"
      ]
     },
     "execution_count": 71,
     "metadata": {},
     "output_type": "execute_result"
    },
    {
     "data": {
      "image/png": "[encoded data removed]",
      "text/plain": [
       "<Figure size 432x288 with 1 Axes>"
      ]
     },
     "metadata": {
      "needs_background": "light"
     },
     "output_type": "display_data"
    }
   ],
   "source": [
    "#Entends helps us to fill the missing value with approx value\n",
    "ds_new.extend(lst_output)\n",
    "plt.plot(ds_new[1200:])"
   ]
  },
  {
   "cell_type": "code",
   "execution_count": 72,
   "id": "7f04f058",
   "metadata": {},
   "outputs": [],
   "source": [
    "#Creating final data for plotting\n",
    "final_graph = normalizer.inverse_transform(ds_new).tolist()"
   ]
  },
  {
   "cell_type": "code",
   "execution_count": 73,
   "id": "2dfdef30",
   "metadata": {},
   "outputs": [
    {
     "data": {
      "text/plain": [
       "<matplotlib.legend.Legend at 0x1929b55c220>"
      ]
     },
     "execution_count": 73,
     "metadata": {},
     "output_type": "execute_result"
    },
    {
     "data": {
      "image/png": "[encoded data removed]",
      "text/plain": [
       "<Figure size 432x288 with 1 Axes>"
      ]
     },
     "metadata": {
      "needs_background": "light"
     },
     "output_type": "display_data"
    }
   ],
   "source": [
    "#Plotting final results with predicted value after 30 Days\n",
    "plt.plot(final_graph,)\n",
    "plt.ylabel(\"Price\")\n",
    "plt.xlabel(\"Time\")\n",
    "plt.title(\"{0} prediction of next month open\".format(stock_symbol))\n",
    "plt.axhline(y=final_graph[len(final_graph)-1], color = 'red', linestyle = ':', label = 'NEXT 30D: {0}'.format(round(float(*final_graph[len(final_graph)-1]),2)))\n",
    "plt.legend()\n",
    "\n"
   ]
  },
  {
   "cell_type": "code",
   "execution_count": null,
   "id": "ef4e2b71",
   "metadata": {},
   "outputs": [],
   "source": []
  }
 ],
 "metadata": {
  "kernelspec": {
   "display_name": "Python 3 (ipykernel)",
   "language": "python",
   "name": "python3"
  },
  "language_info": {
   "codemirror_mode": {
    "name": "ipython",
    "version": 3
   },
   "file_extension": ".py",
   "mimetype": "text/x-python",
   "name": "python",
   "nbconvert_exporter": "python",
   "pygments_lexer": "ipython3",
   "version": "3.9.7"
  }
 },
 "nbformat": 4,
 "nbformat_minor": 5
}
